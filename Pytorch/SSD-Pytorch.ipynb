{
 "cells": [
  {
   "cell_type": "code",
   "execution_count": 2,
   "metadata": {},
   "outputs": [],
   "source": [
    "import pandas as pd\n",
    "import numpy as np\n",
    "import json\n",
    "\n",
    "from pathlib import Path"
   ]
  },
  {
   "cell_type": "code",
   "execution_count": 159,
   "metadata": {},
   "outputs": [],
   "source": [
    "PATH_JSON = Path('/Users/ezapata/Downloads/')"
   ]
  },
  {
   "cell_type": "code",
   "execution_count": 165,
   "metadata": {},
   "outputs": [],
   "source": [
    "def get_json_annotation(path_json):\n",
    "    \"\"\"Iterate json annotation.\n",
    "    Return dict {filename: [{label: {name:, x:, y: , width:, height:}}...{}]\n",
    "    \"\"\"\n",
    "    dict_annotation = dict()\n",
    "    \n",
    "    with open(path_json) as f:\n",
    "        data = json.load(f)\n",
    "        metadata = data['_via_img_metadata']\n",
    "        for key in metadata.keys():\n",
    "            filename = metadata[key]['filename']\n",
    "            list_regions = list()\n",
    "            for regions  in metadata[key]['regions']:\n",
    "                target = list(regions['region_attributes']['label'].keys())[0]\n",
    "                list_regions.append({target:regions['shape_attributes']})\n",
    "            # set regiones\n",
    "            dict_annotation[filename] =  list_regions\n",
    "    return dict_annotation"
   ]
  },
  {
   "cell_type": "code",
   "execution_count": 167,
   "metadata": {},
   "outputs": [
    {
     "data": {
      "text/plain": [
       "dict_keys(['nikon-d3400-lente-18-55-memoria-16gb-bolso-garantia-D_NQ_NP_852508-MLA25809561724_072017-O_whatsapp-128 (48)_0.jpg', 'led-hitachi-televisor-D_NQ_NP_793070-MLA27585262271_062018-O_whatsapp-128 (48)_0.jpg', 'celular-sony-xperia-xa1-ultra-4gb-ram-libre-templado-D_NQ_NP_798505-MLA28608605486_112018-O_whatsapp-128 (48)_0.jpg'])"
      ]
     },
     "execution_count": 167,
     "metadata": {},
     "output_type": "execute_result"
    }
   ],
   "source": [
    "dfget_json_annotation(PATH_JSON/'datastes-whatsapp.json')"
   ]
  },
  {
   "cell_type": "code",
   "execution_count": 107,
   "metadata": {},
   "outputs": [
    {
     "data": {
      "text/plain": [
       "dict_keys(['_via_settings', '_via_img_metadata', '_via_attributes'])"
      ]
     },
     "execution_count": 107,
     "metadata": {},
     "output_type": "execute_result"
    }
   ],
   "source": [
    "data.keys()"
   ]
  },
  {
   "cell_type": "code",
   "execution_count": null,
   "metadata": {},
   "outputs": [],
   "source": []
  }
 ],
 "metadata": {
  "kernelspec": {
   "display_name": "Python 3",
   "language": "python",
   "name": "python3"
  },
  "language_info": {
   "codemirror_mode": {
    "name": "ipython",
    "version": 3
   },
   "file_extension": ".py",
   "mimetype": "text/x-python",
   "name": "python",
   "nbconvert_exporter": "python",
   "pygments_lexer": "ipython3",
   "version": "3.6.0"
  }
 },
 "nbformat": 4,
 "nbformat_minor": 2
}
