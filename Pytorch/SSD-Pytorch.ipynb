{
 "cells": [
  {
   "cell_type": "code",
   "execution_count": 2,
   "metadata": {},
   "outputs": [],
   "source": [
    "import pandas as pd\n",
    "import numpy as np\n",
    "import json\n",
    "\n",
    "from pathlib import Path"
   ]
  },
  {
   "cell_type": "code",
   "execution_count": 9,
   "metadata": {},
   "outputs": [],
   "source": [
    "PATH_JSON = Path('./data')"
   ]
  },
  {
   "cell_type": "code",
   "execution_count": 6,
   "metadata": {},
   "outputs": [],
   "source": [
    "def get_json_annotation(path_json):\n",
    "    \"\"\"Iterate json annotation.\n",
    "    Return dict {filename: [{label: {name:, x:, y: , width:, height:}}...{}]\n",
    "    \"\"\"\n",
    "    dict_annotation = dict()\n",
    "    \n",
    "    with open(path_json) as f:\n",
    "        data = json.load(f)\n",
    "        metadata = data['_via_img_metadata']\n",
    "        for key in metadata.keys():\n",
    "            filename = metadata[key]['filename']\n",
    "            list_regions = list()\n",
    "            for regions  in metadata[key]['regions']:\n",
    "                target = list(regions['region_attributes']['label'].keys())[0]\n",
    "                list_regions.append({target:regions['shape_attributes']})\n",
    "            # set regiones\n",
    "            dict_annotation[filename] =  list_regions\n",
    "    return dict_annotation"
   ]
  },
  {
   "cell_type": "code",
   "execution_count": 13,
   "metadata": {},
   "outputs": [],
   "source": [
    "metadata_datasets = get_json_annotation(PATH_JSON/'datasets.json')"
   ]
  },
  {
   "cell_type": "code",
   "execution_count": 14,
   "metadata": {},
   "outputs": [
    {
     "data": {
      "text/plain": [
       "dict_keys(['img0.jpg', 'img1.jpg', 'img2.jpg', 'img3.jpg', 'img4.jpg', 'img5.jpg'])"
      ]
     },
     "execution_count": 14,
     "metadata": {},
     "output_type": "execute_result"
    }
   ],
   "source": [
    "metadata_datasets.keys()"
   ]
  },
  {
   "cell_type": "code",
   "execution_count": null,
   "metadata": {},
   "outputs": [],
   "source": []
  }
 ],
 "metadata": {
  "kernelspec": {
   "display_name": "Python 3",
   "language": "python",
   "name": "python3"
  },
  "language_info": {
   "codemirror_mode": {
    "name": "ipython",
    "version": 3
   },
   "file_extension": ".py",
   "mimetype": "text/x-python",
   "name": "python",
   "nbconvert_exporter": "python",
   "pygments_lexer": "ipython3",
   "version": "3.6.0"
  }
 },
 "nbformat": 4,
 "nbformat_minor": 2
}
